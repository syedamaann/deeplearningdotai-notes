{
 "cells": [
  {
   "cell_type": "markdown",
   "id": "272e659b",
   "metadata": {},
   "source": [
    "# Dense Retrieval"
   ]
  },
  {
   "cell_type": "markdown",
   "id": "a00e3a75",
   "metadata": {},
   "source": [
    "## Setup\n",
    "\n",
    "Load needed API keys and relevant Python libaries."
   ]
  },
  {
   "cell_type": "code",
   "execution_count": 1,
   "id": "84214662",
   "metadata": {
    "height": 47
   },
   "outputs": [],
   "source": [
    "# !pip install cohere \n",
    "# !pip install weaviate-client Annoy"
   ]
  },
  {
   "cell_type": "code",
   "execution_count": 2,
   "id": "e876e494-818f-439e-a1be-b50535cf09f5",
   "metadata": {
    "height": 64
   },
   "outputs": [],
   "source": [
    "import os\n",
    "from dotenv import load_dotenv, find_dotenv\n",
    "_ = load_dotenv(find_dotenv()) # read local .env file"
   ]
  },
  {
   "cell_type": "code",
   "execution_count": 3,
   "id": "dc7f9f83-c295-4114-aca4-8b0ddbc64ddb",
   "metadata": {
    "height": 47
   },
   "outputs": [],
   "source": [
    "import cohere\n",
    "co = cohere.Client(os.environ['COHERE_API_KEY'])"
   ]
  },
  {
   "cell_type": "code",
   "execution_count": 4,
   "id": "cfa7aa9f-e3e8-44d9-a4ac-461d71d8c7f4",
   "metadata": {
    "height": 64
   },
   "outputs": [],
   "source": [
    "import weaviate\n",
    "auth_config = weaviate.auth.AuthApiKey(\n",
    "    api_key=os.environ['WEAVIATE_API_KEY'])"
   ]
  },
  {
   "cell_type": "code",
   "execution_count": 5,
   "id": "d8474f81-011c-485a-9f24-827f81165fee",
   "metadata": {
    "height": 149
   },
   "outputs": [
    {
     "data": {
      "text/plain": [
       "True"
      ]
     },
     "execution_count": 5,
     "metadata": {},
     "output_type": "execute_result"
    }
   ],
   "source": [
    "client = weaviate.Client(\n",
    "    url=os.environ['WEAVIATE_API_URL'],\n",
    "    auth_client_secret=auth_config,\n",
    "    additional_headers={\n",
    "        \"X-Cohere-Api-Key\": os.environ['COHERE_API_KEY'],\n",
    "    }\n",
    ")\n",
    "client.is_ready() #check if True"
   ]
  },
  {
   "cell_type": "markdown",
   "id": "75df20b5",
   "metadata": {},
   "source": [
    "## Part 1: Vector Database for semantic Search"
   ]
  },
  {
   "cell_type": "code",
   "execution_count": 6,
   "id": "1a44f246-2fdb-4986-9a23-401f22825647",
   "metadata": {
    "height": 438
   },
   "outputs": [],
   "source": [
    "def dense_retrieval(query, \n",
    "                    results_lang='en', \n",
    "                    properties = [\"text\", \"title\", \"url\", \"views\", \"lang\", \"_additional {distance}\"],\n",
    "                    num_results=5):\n",
    "\n",
    "    nearText = {\"concepts\": [query]}\n",
    "    \n",
    "    # To filter by language\n",
    "    where_filter = {\n",
    "    \"path\": [\"lang\"],\n",
    "    \"operator\": \"Equal\",\n",
    "    \"valueString\": results_lang\n",
    "    }\n",
    "    response = (\n",
    "        client.query\n",
    "        .get(\"Articles\", properties)\n",
    "        .with_near_text(nearText)\n",
    "        .with_where(where_filter)\n",
    "        .with_limit(num_results)\n",
    "        .do()\n",
    "    )\n",
    "\n",
    "    result = response['data']['Get']['Articles']\n",
    "\n",
    "    return result"
   ]
  },
  {
   "cell_type": "code",
   "execution_count": 7,
   "id": "3c7d2791",
   "metadata": {
    "height": 30
   },
   "outputs": [],
   "source": [
    "from utils import print_result"
   ]
  },
  {
   "cell_type": "markdown",
   "id": "344956dc",
   "metadata": {},
   "source": [
    "### Bacic Query"
   ]
  },
  {
   "cell_type": "code",
   "execution_count": 8,
   "id": "ca9b7b93-dfcc-464a-ac9e-41bfa8117a99",
   "metadata": {
    "height": 64
   },
   "outputs": [
    {
     "name": "stdout",
     "output_type": "stream",
     "text": [
      "item 0\n",
      "_additional:{'distance': -154.75615}\n",
      "\n",
      "lang:en\n",
      "\n",
      "text:There are many works that have been pointed to as possible sources for Shakespeare's play—from ancient Greek tragedies to Elizabethan plays. The editors of the Arden Shakespeare question the idea of \"source hunting\", pointing out that it presupposes that authors always require ideas from other works for their own, and suggests that no author can have an original idea or be an originator. When Shakespeare wrote there were many stories about sons avenging the murder of their fathers, and many about clever avenging sons pretending to be foolish in order to outsmart their foes. This would include the story of the ancient Roman, Lucius Junius Brutus, which Shakespeare apparently knew, as well as the story of Amleth, which was preserved in Latin by 13th-century chronicler Saxo Grammaticus in his \"Gesta Danorum\", and printed in Paris in 1514. The Amleth story was subsequently adapted and then published in French in 1570 by the 16th-century scholar François de Belleforest. It has a number of plot elements and major characters in common with Shakespeare's \"Hamlet\", and lacks others that are found in Shakespeare. Belleforest's story was first published in English in 1608, after \"Hamlet\" had been written, though it's possible that Shakespeare had encountered it in the French-language version.\n",
      "\n",
      "title:Hamlet\n",
      "\n",
      "url:https://en.wikipedia.org/wiki?curid=13554\n",
      "\n",
      "views:3000\n",
      "\n",
      "\n",
      "item 1\n",
      "_additional:{'distance': -154.56943}\n",
      "\n",
      "lang:en\n",
      "\n",
      "text:English poet John Milton was an early admirer of Shakespeare and took evident inspiration from his work. As John Kerrigan discusses, Milton originally considered writing his epic poem \"Paradise Lost\" (1667) as a tragedy. While Milton did not ultimately go that route, the poem still shows distinct echoes of Shakespearean revenge tragedy, and of \"Hamlet\" in particular. As scholar Christopher N. Warren argues, \"Paradise Lost\"s Satan \"undergoes a transformation in the poem from a Hamlet-like avenger into a Claudius-like usurper,\" a plot device that supports Milton's larger Republican internationalist project. The poem also reworks theatrical language from \"Hamlet\", especially around the idea of \"putting on\" certain dispositions, as when Hamlet puts on \"an antic disposition,\" similarly to the Son in \"Paradise Lost\" who \"can put on / [God's] terrors.\"\n",
      "\n",
      "title:Hamlet\n",
      "\n",
      "url:https://en.wikipedia.org/wiki?curid=13554\n",
      "\n",
      "views:3000\n",
      "\n",
      "\n",
      "item 2\n",
      "_additional:{'distance': -154.2872}\n",
      "\n",
      "lang:en\n",
      "\n",
      "text:The Tragedy of Hamlet, Prince of Denmark, often shortened to Hamlet (), is a tragedy written by William Shakespeare sometime between 1599 and 1601. It is Shakespeare's longest play, with 29,551 words. Set in Denmark, the play depicts Prince Hamlet and his attempts to exact revenge against his uncle, Claudius, who has murdered Hamlet's father in order to seize his throne and marry Hamlet's mother.\n",
      "\n",
      "title:Hamlet\n",
      "\n",
      "url:https://en.wikipedia.org/wiki?curid=13554\n",
      "\n",
      "views:3000\n",
      "\n",
      "\n",
      "item 3\n",
      "_additional:{'distance': -153.54633}\n",
      "\n",
      "lang:en\n",
      "\n",
      "text:In 1598, Francis Meres published his \"Palladis Tamia\", a survey of English literature from Chaucer to its present day, within which twelve of Shakespeare's plays are named. \"Hamlet\" is not among them, suggesting that it had not yet been written. As \"Hamlet\" was very popular, Bernard Lott, the series editor of \"New Swan\", believes it \"unlikely that he [Meres] would have overlooked ... so significant a piece\".\n",
      "\n",
      "title:Hamlet\n",
      "\n",
      "url:https://en.wikipedia.org/wiki?curid=13554\n",
      "\n",
      "views:3000\n",
      "\n",
      "\n",
      "item 4\n",
      "_additional:{'distance': -153.43037}\n",
      "\n",
      "lang:en\n",
      "\n",
      "text:Shakespeare almost certainly wrote the role of Hamlet for Richard Burbage. He was the chief tragedian of the Lord Chamberlain's Men, with a capacious memory for lines and a wide emotional range. Judging by the number of reprints, \"Hamlet\" appears to have been Shakespeare's fourth most popular play during his lifetime—only \"Henry IV Part 1\", \"Richard III\" and \"Pericles\" eclipsed it. Shakespeare provides no clear indication of when his play is set; however, as Elizabethan actors performed at the Globe in contemporary dress on minimal sets, this would not have affected the staging.\n",
      "\n",
      "title:Hamlet\n",
      "\n",
      "url:https://en.wikipedia.org/wiki?curid=13554\n",
      "\n",
      "views:3000\n",
      "\n",
      "\n"
     ]
    }
   ],
   "source": [
    "query = \"Who wrote Hamlet?\"\n",
    "dense_retrieval_results = dense_retrieval(query)\n",
    "print_result(dense_retrieval_results)"
   ]
  },
  {
   "cell_type": "markdown",
   "id": "319111ec",
   "metadata": {},
   "source": [
    "### Medium Query"
   ]
  },
  {
   "cell_type": "code",
   "execution_count": 9,
   "id": "1c1145db-f3c0-4178-8f76-69bd78a8b779",
   "metadata": {
    "height": 64,
    "jupyter": {
     "outputs_hidden": true
    }
   },
   "outputs": [
    {
     "name": "stdout",
     "output_type": "stream",
     "text": [
      "item 0\n",
      "_additional:{'distance': -150.8031}\n",
      "\n",
      "lang:en\n",
      "\n",
      "text:The governor general of the province had designated Kingston as the capital in 1841. However, the major population centres of Toronto and Montreal, as well as the former capital of Lower Canada, Quebec City, all had legislators dissatisfied with Kingston. Anglophone merchants in Quebec were the main group supportive of the Kingston arrangement. In 1842, a vote rejected Kingston as the capital, and study of potential candidates included the then-named Bytown, but that option proved less popular than Toronto or Montreal. In 1843, a report of the Executive Council recommended Montreal as the capital as a more fortifiable location and commercial centre, however, the Governor General refused to execute a move without a parliamentary vote. In 1844, the Queen's acceptance of a parliamentary vote moved the capital to Montreal.\n",
      "\n",
      "title:Ottawa\n",
      "\n",
      "url:https://en.wikipedia.org/wiki?curid=22219\n",
      "\n",
      "views:2000\n",
      "\n",
      "\n",
      "item 1\n",
      "_additional:{'distance': -150.28354}\n",
      "\n",
      "lang:en\n",
      "\n",
      "text:For brief periods, Toronto was twice the capital of the united Province of Canada: first from 1849 to 1852, following unrest in Montreal, and later 1856–1858. After this date, Quebec was designated as the capital until 1866 (one year before Canadian Confederation). Since then, the capital of Canada has remained Ottawa, Ontario.\n",
      "\n",
      "title:Toronto\n",
      "\n",
      "url:https://en.wikipedia.org/wiki?curid=64646\n",
      "\n",
      "views:3000\n",
      "\n",
      "\n",
      "item 2\n",
      "_additional:{'distance': -150.02524}\n",
      "\n",
      "lang:en\n",
      "\n",
      "text:Selection of Ottawa as the capital of Canada predates the Confederation of Canada. The selection was contentious and not straightforward, with the parliament of the United Province of Canada holding more than 200 votes over several decades to attempt to settle on a legislative solution to the location of the capital.\n",
      "\n",
      "title:Ottawa\n",
      "\n",
      "url:https://en.wikipedia.org/wiki?curid=22219\n",
      "\n",
      "views:2000\n",
      "\n",
      "\n",
      "item 3\n",
      "_additional:{'distance': -149.92365}\n",
      "\n",
      "lang:en\n",
      "\n",
      "text:Until the late 18th century Québec was the most populous city in present-day Canada. As of the census of 1790, Montreal surpassed it with 18,000 inhabitants, but Quebec (pop. 14,000) remained the administrative capital of New France. It was then made the capital of Lower Canada by the Constitutional Act of 1791. From 1841 to 1867, the capital of the Province of Canada rotated between Kingston, Montreal, Toronto, Ottawa and Quebec City (from 1852 to 1856 and from 1859 to 1866).\n",
      "\n",
      "title:Quebec City\n",
      "\n",
      "url:https://en.wikipedia.org/wiki?curid=100727\n",
      "\n",
      "views:2000\n",
      "\n",
      "\n",
      "item 4\n",
      "_additional:{'distance': -149.71033}\n",
      "\n",
      "lang:en\n",
      "\n",
      "text:The Quebec Conference on Canadian Confederation was held in the city in 1864. In 1867, Queen Victoria chose Ottawa as the definite capital of the Dominion of Canada, while Quebec City was confirmed as the capital of the newly created province of Quebec.\n",
      "\n",
      "title:Quebec City\n",
      "\n",
      "url:https://en.wikipedia.org/wiki?curid=100727\n",
      "\n",
      "views:2000\n",
      "\n",
      "\n"
     ]
    }
   ],
   "source": [
    "query = \"What is the capital of Canada?\"\n",
    "dense_retrieval_results = dense_retrieval(query)\n",
    "print_result(dense_retrieval_results)"
   ]
  },
  {
   "cell_type": "code",
   "execution_count": 10,
   "id": "dda4f775-d95a-4408-872b-a0d9cf0c7a68",
   "metadata": {
    "height": 98,
    "jupyter": {
     "outputs_hidden": true
    }
   },
   "outputs": [
    {
     "ename": "UnexpectedStatusCodeException",
     "evalue": "Query was not successful! Unexpected status code: 500, with response body: None.",
     "output_type": "error",
     "traceback": [
      "\u001b[0;31m---------------------------------------------------------------------------\u001b[0m",
      "\u001b[0;31mUnexpectedStatusCodeException\u001b[0m             Traceback (most recent call last)",
      "Cell \u001b[0;32mIn[10], line 4\u001b[0m\n\u001b[1;32m      1\u001b[0m \u001b[38;5;28;01mfrom\u001b[39;00m \u001b[38;5;21;01mutils\u001b[39;00m \u001b[38;5;28;01mimport\u001b[39;00m keyword_search\n\u001b[1;32m      3\u001b[0m query \u001b[38;5;241m=\u001b[39m \u001b[38;5;124m\"\u001b[39m\u001b[38;5;124mWhat is the capital of Canada?\u001b[39m\u001b[38;5;124m\"\u001b[39m\n\u001b[0;32m----> 4\u001b[0m keyword_search_results \u001b[38;5;241m=\u001b[39m \u001b[43mkeyword_search\u001b[49m\u001b[43m(\u001b[49m\u001b[43mquery\u001b[49m\u001b[43m,\u001b[49m\u001b[43m \u001b[49m\u001b[43mclient\u001b[49m\u001b[43m)\u001b[49m\n\u001b[1;32m      5\u001b[0m print_result(keyword_search_results)\n",
      "File \u001b[0;32m~/work/utils.py:25\u001b[0m, in \u001b[0;36mkeyword_search\u001b[0;34m(query, client, results_lang, properties, num_results)\u001b[0m\n\u001b[1;32m     12\u001b[0m \u001b[38;5;28;01mdef\u001b[39;00m \u001b[38;5;21mkeyword_search\u001b[39m(query, \n\u001b[1;32m     13\u001b[0m                    client,\n\u001b[1;32m     14\u001b[0m                    results_lang\u001b[38;5;241m=\u001b[39m\u001b[38;5;124m'\u001b[39m\u001b[38;5;124men\u001b[39m\u001b[38;5;124m'\u001b[39m, \n\u001b[1;32m     15\u001b[0m                    properties \u001b[38;5;241m=\u001b[39m [\u001b[38;5;124m\"\u001b[39m\u001b[38;5;124mtitle\u001b[39m\u001b[38;5;124m\"\u001b[39m,\u001b[38;5;124m\"\u001b[39m\u001b[38;5;124murl\u001b[39m\u001b[38;5;124m\"\u001b[39m,\u001b[38;5;124m\"\u001b[39m\u001b[38;5;124mtext\u001b[39m\u001b[38;5;124m\"\u001b[39m],\n\u001b[1;32m     16\u001b[0m                    num_results\u001b[38;5;241m=\u001b[39m\u001b[38;5;241m3\u001b[39m):\n\u001b[1;32m     18\u001b[0m     where_filter \u001b[38;5;241m=\u001b[39m {\n\u001b[1;32m     19\u001b[0m     \u001b[38;5;124m\"\u001b[39m\u001b[38;5;124mpath\u001b[39m\u001b[38;5;124m\"\u001b[39m: [\u001b[38;5;124m\"\u001b[39m\u001b[38;5;124mlang\u001b[39m\u001b[38;5;124m\"\u001b[39m],\n\u001b[1;32m     20\u001b[0m     \u001b[38;5;124m\"\u001b[39m\u001b[38;5;124moperator\u001b[39m\u001b[38;5;124m\"\u001b[39m: \u001b[38;5;124m\"\u001b[39m\u001b[38;5;124mEqual\u001b[39m\u001b[38;5;124m\"\u001b[39m,\n\u001b[1;32m     21\u001b[0m     \u001b[38;5;124m\"\u001b[39m\u001b[38;5;124mvalueString\u001b[39m\u001b[38;5;124m\"\u001b[39m: results_lang\n\u001b[1;32m     22\u001b[0m     }\n\u001b[1;32m     24\u001b[0m     response \u001b[38;5;241m=\u001b[39m (\n\u001b[0;32m---> 25\u001b[0m         \u001b[43mclient\u001b[49m\u001b[38;5;241;43m.\u001b[39;49m\u001b[43mquery\u001b[49m\u001b[38;5;241;43m.\u001b[39;49m\u001b[43mget\u001b[49m\u001b[43m(\u001b[49m\u001b[38;5;124;43m\"\u001b[39;49m\u001b[38;5;124;43mArticles\u001b[39;49m\u001b[38;5;124;43m\"\u001b[39;49m\u001b[43m,\u001b[49m\u001b[43m \u001b[49m\u001b[43mproperties\u001b[49m\u001b[43m)\u001b[49m\n\u001b[1;32m     26\u001b[0m \u001b[43m        \u001b[49m\u001b[38;5;241;43m.\u001b[39;49m\u001b[43mwith_bm25\u001b[49m\u001b[43m(\u001b[49m\n\u001b[1;32m     27\u001b[0m \u001b[43m          \u001b[49m\u001b[43mquery\u001b[49m\u001b[38;5;241;43m=\u001b[39;49m\u001b[43mquery\u001b[49m\n\u001b[1;32m     28\u001b[0m \u001b[43m        \u001b[49m\u001b[43m)\u001b[49m\n\u001b[1;32m     29\u001b[0m \u001b[43m        \u001b[49m\u001b[38;5;241;43m.\u001b[39;49m\u001b[43mwith_where\u001b[49m\u001b[43m(\u001b[49m\u001b[43mwhere_filter\u001b[49m\u001b[43m)\u001b[49m\n\u001b[1;32m     30\u001b[0m \u001b[43m        \u001b[49m\u001b[38;5;241;43m.\u001b[39;49m\u001b[43mwith_limit\u001b[49m\u001b[43m(\u001b[49m\u001b[43mnum_results\u001b[49m\u001b[43m)\u001b[49m\n\u001b[1;32m     31\u001b[0m \u001b[43m        \u001b[49m\u001b[38;5;241;43m.\u001b[39;49m\u001b[43mdo\u001b[49m\u001b[43m(\u001b[49m\u001b[43m)\u001b[49m\n\u001b[1;32m     32\u001b[0m         )\n\u001b[1;32m     34\u001b[0m     result \u001b[38;5;241m=\u001b[39m response[\u001b[38;5;124m'\u001b[39m\u001b[38;5;124mdata\u001b[39m\u001b[38;5;124m'\u001b[39m][\u001b[38;5;124m'\u001b[39m\u001b[38;5;124mGet\u001b[39m\u001b[38;5;124m'\u001b[39m][\u001b[38;5;124m'\u001b[39m\u001b[38;5;124mArticles\u001b[39m\u001b[38;5;124m'\u001b[39m]\n\u001b[1;32m     35\u001b[0m     \u001b[38;5;28;01mreturn\u001b[39;00m result\n",
      "File \u001b[0;32m/usr/local/lib/python3.9/site-packages/weaviate/gql/get.py:1342\u001b[0m, in \u001b[0;36mGetBuilder.do\u001b[0;34m(self)\u001b[0m\n\u001b[1;32m   1340\u001b[0m     \u001b[38;5;28;01mreturn\u001b[39;00m results\n\u001b[1;32m   1341\u001b[0m \u001b[38;5;28;01melse\u001b[39;00m:\n\u001b[0;32m-> 1342\u001b[0m     \u001b[38;5;28;01mreturn\u001b[39;00m \u001b[38;5;28;43msuper\u001b[39;49m\u001b[43m(\u001b[49m\u001b[43m)\u001b[49m\u001b[38;5;241;43m.\u001b[39;49m\u001b[43mdo\u001b[49m\u001b[43m(\u001b[49m\u001b[43m)\u001b[49m\n",
      "File \u001b[0;32m/usr/local/lib/python3.9/site-packages/weaviate/gql/filter.py:81\u001b[0m, in \u001b[0;36mGraphQL.do\u001b[0;34m(self)\u001b[0m\n\u001b[1;32m     79\u001b[0m \u001b[38;5;28;01mif\u001b[39;00m response\u001b[38;5;241m.\u001b[39mstatus_code \u001b[38;5;241m==\u001b[39m \u001b[38;5;241m200\u001b[39m:\n\u001b[1;32m     80\u001b[0m     \u001b[38;5;28;01mreturn\u001b[39;00m response\u001b[38;5;241m.\u001b[39mjson()  \u001b[38;5;66;03m# success\u001b[39;00m\n\u001b[0;32m---> 81\u001b[0m \u001b[38;5;28;01mraise\u001b[39;00m UnexpectedStatusCodeException(\u001b[38;5;124m\"\u001b[39m\u001b[38;5;124mQuery was not successful\u001b[39m\u001b[38;5;124m\"\u001b[39m, response)\n",
      "\u001b[0;31mUnexpectedStatusCodeException\u001b[0m: Query was not successful! Unexpected status code: 500, with response body: None."
     ]
    }
   ],
   "source": [
    "from utils import keyword_search\n",
    "\n",
    "query = \"What is the capital of Canada?\"\n",
    "keyword_search_results = keyword_search(query, client)\n",
    "print_result(keyword_search_results)"
   ]
  },
  {
   "cell_type": "markdown",
   "id": "529e8a97",
   "metadata": {},
   "source": [
    "### Complicated Query"
   ]
  },
  {
   "cell_type": "code",
   "execution_count": 11,
   "id": "9deb9d52-6da8-48f3-92e2-baf922afdbb9",
   "metadata": {
    "height": 98
   },
   "outputs": [
    {
     "name": "stdout",
     "output_type": "stream",
     "text": [
      "item 0\n",
      "text:The population of Japan peaked at 128,083,960 in 2008. It had decreased by 2,373,960 by December 2020. In 2011, the economy of China became the world's second largest. Japan's economy descended to third largest by nominal GDP. Despite Japan's economic difficulties, this period also saw Japanese popular culture, including video games, anime, and manga, expanding worldwide, especially among young people. In March 2011, the Tokyo Skytree became the tallest tower in the world at , displacing the Canton Tower. It is the second tallest structure in the world after the Burj Khalifa ().\n",
      "\n",
      "title:History of Japan\n",
      "\n",
      "url:https://en.wikipedia.org/wiki?curid=25890428\n",
      "\n",
      "\n",
      "item 1\n",
      "text:Alpinism author Jon Krakauer (1997) wrote in \"Into Thin Air\" that it would be a bigger challenge to climb the second-highest peak of each continent, known as the Seven Second Summits – a feat that was not accomplished until January 2013. This discussion had previously been published in an article titled \"The Second Seven Summits\" in Rock & Ice Magazine (#77) authored by the mountaineer and Seven Summits completer David Keaton. This is especially true for Asia, as K2 (8,611 m) demands greater technical climbing skills than Everest (8,848 m), while altitude-related factors such as the thinness of the atmosphere, high winds and low temperatures remain much the same. Some of those completing the seven ascents are aware of the magnitude of the challenge. In 2000, in a foreword to Steve Bell et al., \"Seven Summits\", Morrow opined \"[t]he only reason Reinhold [Messner] wasn’t the first person to complete the seven was that he was too busy gambolling up the 14 tallest mountains in the world.\"\n",
      "\n",
      "title:Seven Summits\n",
      "\n",
      "url:https://en.wikipedia.org/wiki?curid=220861\n",
      "\n",
      "\n",
      "item 2\n",
      "text:Hamad was able to focus on turning Qatar from a small desert backwater into a major world power by continuing to exploit the country’s vast oil fields and discovering and tapping the world’s third largest gas reserves. By 2010 liquefied natural gas production had reached 77 million tons, making Qatar the richest country in the world. With fewer than two million inhabitants, the average income in the country shot to a staggering $86,440 per year per person. Qatar expert Olivier Da Lage said: \"When he came to power in 1995, Sheikh Hamad had a goal to place Qatar on the world map by exploiting the gas resources which his father did not develop for fear it would change the emirate's society. Eighteen years on, he has finished the job – Qatar has acquired the financial clout to command respect from neighboring countries and Western governments alike\".In 2005, under the direction of Hamad and the former prime minister of Qatar Sheikh Hamad bin Jassim bin Jaber Al Thani, the Qatar Investment Authority was established, a sovereign wealth fund to manage the country's oil and natural gas surpluses. The Qatar Investment Authority and its subsidiaries have acquired many businesses abroad, including London's iconic department store Harrods from entrepreneur Mohammed Al-Fayed, Paris-based department store Printemps, French football club Paris Saint-Germain F.C., a former 10% stake in Porsche, a 75% stake in film studio Miramax Films which they acquired from Disney, a 2% stake in media conglomerate and Universal Music Group parent company Vivendi, a $100 million USD investment in Chernin Group – whose founder Peter Chernin was COO of News Corp and President of Fox, a 1% stake in luxury goods manufacturer Louis Vuitton Moët Hennessy, a 6% stake in Credit Suisse, a 12.6% stake in Barclays and several other major companies. They also backed Glencore's $31 billion takeover bid for Xstrata. Qatar is the largest property owner in London with their holdings including the United Kingdom's tallest building The Shard, the London Olympic Village and the InterContinental London Park Lane hotel. They also own several hotels in Cannes including the Majestic Hotel, Grand Hyatt Cannes Hôtel Martinez and the Carlton Hotel, Cannes. QIA was considered to have one of the leading bids in the sales of both Anschutz Entertainment Group and Hulu. As of May 2013, it was reported the Investment Authority was in talks to purchase Neiman Marcus and Bergdorf Goodman.\n",
      "\n",
      "title:Hamad bin Khalifa Al Thani\n",
      "\n",
      "url:https://en.wikipedia.org/wiki?curid=295929\n",
      "\n",
      "\n"
     ]
    }
   ],
   "source": [
    "from utils import keyword_search\n",
    "\n",
    "query = \"Tallest person in history?\"\n",
    "keyword_search_results = keyword_search(query, client)\n",
    "print_result(keyword_search_results)"
   ]
  },
  {
   "cell_type": "code",
   "execution_count": 12,
   "id": "334fd577-5832-4ccc-9ac1-1ed32c6913ab",
   "metadata": {
    "height": 64,
    "jupyter": {
     "outputs_hidden": true
    }
   },
   "outputs": [
    {
     "ename": "UnexpectedStatusCodeException",
     "evalue": "Query was not successful! Unexpected status code: 500, with response body: None.",
     "output_type": "error",
     "traceback": [
      "\u001b[0;31m---------------------------------------------------------------------------\u001b[0m",
      "\u001b[0;31mUnexpectedStatusCodeException\u001b[0m             Traceback (most recent call last)",
      "Cell \u001b[0;32mIn[12], line 2\u001b[0m\n\u001b[1;32m      1\u001b[0m query \u001b[38;5;241m=\u001b[39m \u001b[38;5;124m\"\u001b[39m\u001b[38;5;124mTallest person in history\u001b[39m\u001b[38;5;124m\"\u001b[39m\n\u001b[0;32m----> 2\u001b[0m dense_retrieval_results \u001b[38;5;241m=\u001b[39m \u001b[43mdense_retrieval\u001b[49m\u001b[43m(\u001b[49m\u001b[43mquery\u001b[49m\u001b[43m)\u001b[49m\n\u001b[1;32m      3\u001b[0m print_result(dense_retrieval_results)\n",
      "Cell \u001b[0;32mIn[6], line 15\u001b[0m, in \u001b[0;36mdense_retrieval\u001b[0;34m(query, results_lang, properties, num_results)\u001b[0m\n\u001b[1;32m      8\u001b[0m \u001b[38;5;66;03m# To filter by language\u001b[39;00m\n\u001b[1;32m      9\u001b[0m where_filter \u001b[38;5;241m=\u001b[39m {\n\u001b[1;32m     10\u001b[0m \u001b[38;5;124m\"\u001b[39m\u001b[38;5;124mpath\u001b[39m\u001b[38;5;124m\"\u001b[39m: [\u001b[38;5;124m\"\u001b[39m\u001b[38;5;124mlang\u001b[39m\u001b[38;5;124m\"\u001b[39m],\n\u001b[1;32m     11\u001b[0m \u001b[38;5;124m\"\u001b[39m\u001b[38;5;124moperator\u001b[39m\u001b[38;5;124m\"\u001b[39m: \u001b[38;5;124m\"\u001b[39m\u001b[38;5;124mEqual\u001b[39m\u001b[38;5;124m\"\u001b[39m,\n\u001b[1;32m     12\u001b[0m \u001b[38;5;124m\"\u001b[39m\u001b[38;5;124mvalueString\u001b[39m\u001b[38;5;124m\"\u001b[39m: results_lang\n\u001b[1;32m     13\u001b[0m }\n\u001b[1;32m     14\u001b[0m response \u001b[38;5;241m=\u001b[39m (\n\u001b[0;32m---> 15\u001b[0m     \u001b[43mclient\u001b[49m\u001b[38;5;241;43m.\u001b[39;49m\u001b[43mquery\u001b[49m\n\u001b[1;32m     16\u001b[0m \u001b[43m    \u001b[49m\u001b[38;5;241;43m.\u001b[39;49m\u001b[43mget\u001b[49m\u001b[43m(\u001b[49m\u001b[38;5;124;43m\"\u001b[39;49m\u001b[38;5;124;43mArticles\u001b[39;49m\u001b[38;5;124;43m\"\u001b[39;49m\u001b[43m,\u001b[49m\u001b[43m \u001b[49m\u001b[43mproperties\u001b[49m\u001b[43m)\u001b[49m\n\u001b[1;32m     17\u001b[0m \u001b[43m    \u001b[49m\u001b[38;5;241;43m.\u001b[39;49m\u001b[43mwith_near_text\u001b[49m\u001b[43m(\u001b[49m\u001b[43mnearText\u001b[49m\u001b[43m)\u001b[49m\n\u001b[1;32m     18\u001b[0m \u001b[43m    \u001b[49m\u001b[38;5;241;43m.\u001b[39;49m\u001b[43mwith_where\u001b[49m\u001b[43m(\u001b[49m\u001b[43mwhere_filter\u001b[49m\u001b[43m)\u001b[49m\n\u001b[1;32m     19\u001b[0m \u001b[43m    \u001b[49m\u001b[38;5;241;43m.\u001b[39;49m\u001b[43mwith_limit\u001b[49m\u001b[43m(\u001b[49m\u001b[43mnum_results\u001b[49m\u001b[43m)\u001b[49m\n\u001b[1;32m     20\u001b[0m \u001b[43m    \u001b[49m\u001b[38;5;241;43m.\u001b[39;49m\u001b[43mdo\u001b[49m\u001b[43m(\u001b[49m\u001b[43m)\u001b[49m\n\u001b[1;32m     21\u001b[0m )\n\u001b[1;32m     23\u001b[0m result \u001b[38;5;241m=\u001b[39m response[\u001b[38;5;124m'\u001b[39m\u001b[38;5;124mdata\u001b[39m\u001b[38;5;124m'\u001b[39m][\u001b[38;5;124m'\u001b[39m\u001b[38;5;124mGet\u001b[39m\u001b[38;5;124m'\u001b[39m][\u001b[38;5;124m'\u001b[39m\u001b[38;5;124mArticles\u001b[39m\u001b[38;5;124m'\u001b[39m]\n\u001b[1;32m     25\u001b[0m \u001b[38;5;28;01mreturn\u001b[39;00m result\n",
      "File \u001b[0;32m/usr/local/lib/python3.9/site-packages/weaviate/gql/get.py:1342\u001b[0m, in \u001b[0;36mGetBuilder.do\u001b[0;34m(self)\u001b[0m\n\u001b[1;32m   1340\u001b[0m     \u001b[38;5;28;01mreturn\u001b[39;00m results\n\u001b[1;32m   1341\u001b[0m \u001b[38;5;28;01melse\u001b[39;00m:\n\u001b[0;32m-> 1342\u001b[0m     \u001b[38;5;28;01mreturn\u001b[39;00m \u001b[38;5;28;43msuper\u001b[39;49m\u001b[43m(\u001b[49m\u001b[43m)\u001b[49m\u001b[38;5;241;43m.\u001b[39;49m\u001b[43mdo\u001b[49m\u001b[43m(\u001b[49m\u001b[43m)\u001b[49m\n",
      "File \u001b[0;32m/usr/local/lib/python3.9/site-packages/weaviate/gql/filter.py:81\u001b[0m, in \u001b[0;36mGraphQL.do\u001b[0;34m(self)\u001b[0m\n\u001b[1;32m     79\u001b[0m \u001b[38;5;28;01mif\u001b[39;00m response\u001b[38;5;241m.\u001b[39mstatus_code \u001b[38;5;241m==\u001b[39m \u001b[38;5;241m200\u001b[39m:\n\u001b[1;32m     80\u001b[0m     \u001b[38;5;28;01mreturn\u001b[39;00m response\u001b[38;5;241m.\u001b[39mjson()  \u001b[38;5;66;03m# success\u001b[39;00m\n\u001b[0;32m---> 81\u001b[0m \u001b[38;5;28;01mraise\u001b[39;00m UnexpectedStatusCodeException(\u001b[38;5;124m\"\u001b[39m\u001b[38;5;124mQuery was not successful\u001b[39m\u001b[38;5;124m\"\u001b[39m, response)\n",
      "\u001b[0;31mUnexpectedStatusCodeException\u001b[0m: Query was not successful! Unexpected status code: 500, with response body: None."
     ]
    }
   ],
   "source": [
    "query = \"Tallest person in history\"\n",
    "dense_retrieval_results = dense_retrieval(query)\n",
    "print_result(dense_retrieval_results)"
   ]
  },
  {
   "cell_type": "code",
   "execution_count": 13,
   "id": "a52ea636-1343-4587-85ce-0c291e5fecbc",
   "metadata": {
    "height": 64,
    "jupyter": {
     "outputs_hidden": true
    }
   },
   "outputs": [
    {
     "name": "stdout",
     "output_type": "stream",
     "text": [
      "item 0\n",
      "_additional:{'distance': -147.44199}\n",
      "\n",
      "lang:en\n",
      "\n",
      "text:Robert Pershing Wadlow (February 22, 1918 July 15, 1940), also known as the Alton Giant and the Giant of Illinois, was a man who was the tallest person in recorded history for whom there is irrefutable evidence. He was born and raised in Alton, Illinois, a small city near St. Louis, Missouri.\n",
      "\n",
      "title:Robert Wadlow\n",
      "\n",
      "url:https://en.wikipedia.org/wiki?curid=359117\n",
      "\n",
      "views:3000\n",
      "\n",
      "\n",
      "item 1\n",
      "_additional:{'distance': -147.09518}\n",
      "\n",
      "lang:en\n",
      "\n",
      "text:Kösen turned 40 years old on 10 December 2022. He celebrated his birthday a few days early by visiting the Ripley's Believe It or Not! museum in Orlando, Florida, USA and posing next to a life-sized statue of Robert Wadlow, the tallest man ever at 272 cm (8 ft 11.1 in).\n",
      "\n",
      "title:Sultan Kösen\n",
      "\n",
      "url:https://en.wikipedia.org/wiki?curid=8445237\n",
      "\n",
      "views:2000\n",
      "\n",
      "\n",
      "item 2\n",
      "_additional:{'distance': -146.9144}\n",
      "\n",
      "lang:en\n",
      "\n",
      "text:Bol and Gheorghe Mureșan are the two tallest players in the history of the National Basketball Association. Official NBA publications have listed Bol at either or tall. He was measured by the Guinness Book of World Records at 7 ft 6  in tall. Complementing his great height, Bol had exceptionally long limbs (inseam ) and large hands and feet (size 16 ). His arm span, at , is (as of 2013) the longest in NBA history, and his upward reach was . He was extremely slender, limiting his offensive capability.\n",
      "\n",
      "title:Manute Bol\n",
      "\n",
      "url:https://en.wikipedia.org/wiki?curid=283871\n",
      "\n",
      "views:2000\n",
      "\n",
      "\n",
      "item 3\n",
      "_additional:{'distance': -146.62762}\n",
      "\n",
      "lang:en\n",
      "\n",
      "text:Sultan Kösen (born 10 December 1982) is a Turkish farmer who holds the Guinness World Record for tallest living male at . Of Kurdish ethnicity, he is the seventh tallest man in history.\n",
      "\n",
      "title:Sultan Kösen\n",
      "\n",
      "url:https://en.wikipedia.org/wiki?curid=8445237\n",
      "\n",
      "views:2000\n",
      "\n",
      "\n",
      "item 4\n",
      "_additional:{'distance': -146.54651}\n",
      "\n",
      "lang:en\n",
      "\n",
      "text:Jonah Adam (Cardeli) Falcon (born July 29, 1970) is an American actor and television presenter. He came to international attention in 1999 because of his claim that he has the largest penis in the world, which he claims is long when erect; Falcon has not authorized or permitted independent verification of this figure.\n",
      "\n",
      "title:Jonah Falcon\n",
      "\n",
      "url:https://en.wikipedia.org/wiki?curid=22044645\n",
      "\n",
      "views:2000\n",
      "\n",
      "\n"
     ]
    }
   ],
   "source": [
    "query = \"أطول رجل في التاريخ\"\n",
    "dense_retrieval_results = dense_retrieval(query)\n",
    "print_result(dense_retrieval_results)"
   ]
  },
  {
   "cell_type": "code",
   "execution_count": 20,
   "id": "134a5df0-3b43-4f03-8078-cfad28dcbaf5",
   "metadata": {
    "height": 64,
    "jupyter": {
     "outputs_hidden": true
    }
   },
   "outputs": [
    {
     "name": "stdout",
     "output_type": "stream",
     "text": [
      "item 0\n",
      "_additional:{'distance': -155.33136}\n",
      "\n",
      "lang:en\n",
      "\n",
      "text:In 1999, Khan collaborated with Aziz Mirza and Juhi Chawla to start a production company, Dreamz Unlimited, whose first release was the comedy-drama \"Phir Bhi Dil Hai Hindustani\" (2000) starring Khan and Chawla. The film was a commercial failure as was their next production, \"Aśoka\" (2001), leading to a setback. His career prospects improved in 2002 when he starred alongside Dixit and Aishwarya Rai in \"Devdas\", a period romance that garnered him critical acclaim. In 2004, he collaborated with his wife Gauri Khan to launch another company, Red Chillies Entertainment, whose first feature was the box office hit \"Main Hoon Na\" (2004). Khan's popularity continued to increase in the 2000s as he played the romantic lead opposite younger actresses, most notably Rani Mukerji and Preity Zinta, in several top-grossing productions, including \"Kal Ho Naa Ho\" (2003), \"Veer-Zaara\" (2004) and \"Kabhi Alvida Naa Kehna\" (2006). He also played against type as a NASA scientist in the drama \"Swades\" (2004), a hockey coach in the sports film \"Chak De! India\" (2007), and an autistic man in the drama \"My Name Is Khan\" (2010).\n",
      "\n",
      "title:Shah Rukh Khan filmography\n",
      "\n",
      "url:https://en.wikipedia.org/wiki?curid=35862563\n",
      "\n",
      "views:3000\n",
      "\n",
      "\n",
      "item 1\n",
      "_additional:{'distance': -155.32956}\n",
      "\n",
      "lang:en\n",
      "\n",
      "text:After refusing the role that subsequently went to Anil Kapoor in Danny Boyle's \"Slumdog Millionaire\" (2008), Khan began shooting \"My Name Is Khan\" (2010), his fourth collaboration with director Karan Johar and his sixth with Kajol. The film is based on a true story and set against the backdrop of perceptions of Islam after the 11 September attacks. Khan plays Rizwan Khan, a Muslim suffering from mild Asperger syndrome who sets out on a journey across America to meet the country's president, in a role that film scholar Stephen Teo sees as a \"symbol of assertive rasa values\" and another example of Khan representing NRI identity in global Bollywood. To provide an accurate portrayal of a sufferer without disparagement, Khan spent several months researching his role by reading books, watching videos and talking to people affected by the condition. Upon release, \"My Name is Khan\" became one of the highest grossing Bollywood films of all time outside India, and earned Khan his eighth Filmfare Award for Best Actor, equalling the record for the most wins in the category with actor Dilip Kumar. Jay Wesissberg from \"Variety\" noted how Khan portrayed the Asperger's sufferer with \"averted eyes, springy steps, [and] stuttered repetitions of memorized texts\", believing it to have been a \"standout performance sure to receive the Autism Society's gold seal of approval\".\n",
      "\n",
      "title:Shah Rukh Khan\n",
      "\n",
      "url:https://en.wikipedia.org/wiki?curid=352699\n",
      "\n",
      "views:3000\n",
      "\n",
      "\n",
      "item 2\n",
      "_additional:{'distance': -155.2188}\n",
      "\n",
      "lang:en\n",
      "\n",
      "text:In 2007, Khan portrayed a disgraced hockey player who coaches the Indian women's national hockey team to World Cup success in Yash Raj Films' semi-fictional \"Chak De! India\". Bhaichand Patel notes that Khan, who had a background in the sport playing for his university's hockey team, essentially portrayed himself as a \"cosmopolitan, liberal, Indian Muslim\". Faring well in both India and abroad, Khan garnered another Filmfare Award for Best Actor for his performance, which Rajeev Masand of CNN-IBN considers to have been \"without any of his typical trappings, without any of his trademark quirks\", portraying Kabir Khan \"like a real flesh-and-blood human being\". \"Filmfare\" included his performance in their 2010 issue of the \"Top 80 Iconic Performances\". In the same year, Khan starred\n",
      "\n",
      "title:Shah Rukh Khan\n",
      "\n",
      "url:https://en.wikipedia.org/wiki?curid=352699\n",
      "\n",
      "views:3000\n",
      "\n",
      "\n",
      "item 3\n",
      "_additional:{'distance': -154.89783}\n",
      "\n",
      "lang:en\n",
      "\n",
      "text:2004 was a critically and commercially successful year for Khan. He transformed Dreamz Unlimited into Red Chillies Entertainment, adding his wife Gauri as a producer. In the company's first production, he starred in Farah Khan's directorial debut, the masala film \"Main Hoon Na\". A fictionalised account of India–Pakistan relations, it was viewed by some commentators as a conscious effort to move away from the stereotypical portrayal of Pakistan as the constant villain. Khan then played an Indian Air Force pilot who falls in love with a Pakistani woman (Preity Zinta) in Yash Chopra's romance film \"Veer-Zaara\", which was screened at the 55th Berlin Film Festival to critical praise. It was the highest earning film of 2004 in India, with a worldwide gross of over , and \"Main Hoon Na\" was the second-highest earner with .\n",
      "\n",
      "title:Shah Rukh Khan\n",
      "\n",
      "url:https://en.wikipedia.org/wiki?curid=352699\n",
      "\n",
      "views:3000\n",
      "\n",
      "\n",
      "item 4\n",
      "_additional:{'distance': -154.21445}\n",
      "\n",
      "lang:en\n",
      "\n",
      "text:Khan collaborated for the third time with Aditya Chopra on the romantic drama \"Rab Ne Bana Di Jodi\" (2008) opposite Anushka Sharma, at that time a newcomer. He played Surinder Sahni, a shy man with low self-esteem, whose love for his young arranged wife (Sharma) causes him to transform himself into Raj, a boisterous alter-ego. Rachel Saltz of \"The New York Times\" believed the dual role to have been \"tailor-made\" for Khan, giving him the opportunity to display his talents, although Deep Contractor from \"Epilogue\" thought Khan displayed greater strength in the role of Surinder and weakness in the role of monologue-prone Raj. In December 2008, Khan suffered a shoulder injury while filming a small role in Mudassar Aziz's \"Dulha Mil Gaya\". He underwent extensive physiotherapy sessions at the time but the pain left him almost immobile and he had arthroscopic surgery in February 2009. He performed a special appearance in the 2009 film \"Billu\", playing Bollywood superstar Sahir Khana fictionalised version of himself, wherein he performed musical item numbers with actresses Kareena Kapoor, Priyanka Chopra, and Deepika Padukone. As head of the film's production company, Red Chillies, Khan made the call to change the title of the film from \"Billu Barber\" to \"Billu\" after hairdressers across the country complained that the word \"barber\" was derogatory. The company covered up the offending word on billboards that had already been installed with the original title.\n",
      "\n",
      "title:Shah Rukh Khan\n",
      "\n",
      "url:https://en.wikipedia.org/wiki?curid=352699\n",
      "\n",
      "views:3000\n",
      "\n",
      "\n"
     ]
    }
   ],
   "source": [
    "query = \"film starring shah Rukh khan\"\n",
    "dense_retrieval_results = dense_retrieval(query)\n",
    "print_result(dense_retrieval_results)"
   ]
  },
  {
   "cell_type": "markdown",
   "id": "d3ed0397",
   "metadata": {},
   "source": [
    "## Part 2: Building Semantic Search from Scratch\n",
    "\n",
    "### Get the text archive:"
   ]
  },
  {
   "cell_type": "code",
   "execution_count": 21,
   "id": "b1782247-3b70-4698-8863-7b2e73b10bb5",
   "metadata": {
    "height": 81
   },
   "outputs": [],
   "source": [
    "from annoy import AnnoyIndex\n",
    "import numpy as np\n",
    "import pandas as pd\n",
    "import re"
   ]
  },
  {
   "cell_type": "code",
   "execution_count": 22,
   "id": "664b5661-8e1c-4858-bbd9-5370737318e0",
   "metadata": {
    "height": 302
   },
   "outputs": [],
   "source": [
    "text = \"\"\"\n",
    "Interstellar is a 2014 epic science fiction film co-written, directed, and produced by Christopher Nolan.\n",
    "It stars Matthew McConaughey, Anne Hathaway, Jessica Chastain, Bill Irwin, Ellen Burstyn, Matt Damon, and Michael Caine.\n",
    "Set in a dystopian future where humanity is struggling to survive, the film follows a group of astronauts who travel through a wormhole near Saturn in search of a new home for mankind.\n",
    "\n",
    "Brothers Christopher and Jonathan Nolan wrote the screenplay, which had its origins in a script Jonathan developed in 2007.\n",
    "Caltech theoretical physicist and 2017 Nobel laureate in Physics[4] Kip Thorne was an executive producer, acted as a scientific consultant, and wrote a tie-in book, The Science of Interstellar.\n",
    "Cinematographer Hoyte van Hoytema shot it on 35 mm movie film in the Panavision anamorphic format and IMAX 70 mm.\n",
    "Principal photography began in late 2013 and took place in Alberta, Iceland, and Los Angeles.\n",
    "Interstellar uses extensive practical and miniature effects and the company Double Negative created additional digital effects.\n",
    "\n",
    "Interstellar premiered on October 26, 2014, in Los Angeles.\n",
    "In the United States, it was first released on film stock, expanding to venues using digital projectors.\n",
    "The film had a worldwide gross over $677 million (and $773 million with subsequent re-releases), making it the tenth-highest grossing film of 2014.\n",
    "It received acclaim for its performances, direction, screenplay, musical score, visual effects, ambition, themes, and emotional weight.\n",
    "It has also received praise from many astronomers for its scientific accuracy and portrayal of theoretical astrophysics. Since its premiere, Interstellar gained a cult following,[5] and now is regarded by many sci-fi experts as one of the best science-fiction films of all time.\n",
    "Interstellar was nominated for five awards at the 87th Academy Awards, winning Best Visual Effects, and received numerous other accolades\"\"\""
   ]
  },
  {
   "cell_type": "markdown",
   "id": "55f38f89",
   "metadata": {},
   "source": [
    "### Chunking: "
   ]
  },
  {
   "cell_type": "code",
   "execution_count": 23,
   "id": "44d495f8-8db7-4aee-bfe6-5f3cd46b2217",
   "metadata": {
    "height": 98
   },
   "outputs": [],
   "source": [
    "# Split into a list of sentences\n",
    "texts = text.split('.')\n",
    "\n",
    "# Clean up to remove empty spaces and new lines\n",
    "texts = np.array([t.strip(' \\n') for t in texts])"
   ]
  },
  {
   "cell_type": "code",
   "execution_count": 24,
   "id": "c378fcac-9b19-451c-ab68-8c6b69b7ac2d",
   "metadata": {
    "height": 30
   },
   "outputs": [
    {
     "data": {
      "text/plain": [
       "array(['Interstellar is a 2014 epic science fiction film co-written, directed, and produced by Christopher Nolan',\n",
       "       'It stars Matthew McConaughey, Anne Hathaway, Jessica Chastain, Bill Irwin, Ellen Burstyn, Matt Damon, and Michael Caine',\n",
       "       'Set in a dystopian future where humanity is struggling to survive, the film follows a group of astronauts who travel through a wormhole near Saturn in search of a new home for mankind',\n",
       "       'Brothers Christopher and Jonathan Nolan wrote the screenplay, which had its origins in a script Jonathan developed in 2007',\n",
       "       'Caltech theoretical physicist and 2017 Nobel laureate in Physics[4] Kip Thorne was an executive producer, acted as a scientific consultant, and wrote a tie-in book, The Science of Interstellar',\n",
       "       'Cinematographer Hoyte van Hoytema shot it on 35 mm movie film in the Panavision anamorphic format and IMAX 70 mm',\n",
       "       'Principal photography began in late 2013 and took place in Alberta, Iceland, and Los Angeles',\n",
       "       'Interstellar uses extensive practical and miniature effects and the company Double Negative created additional digital effects',\n",
       "       'Interstellar premiered on October 26, 2014, in Los Angeles',\n",
       "       'In the United States, it was first released on film stock, expanding to venues using digital projectors',\n",
       "       'The film had a worldwide gross over $677 million (and $773 million with subsequent re-releases), making it the tenth-highest grossing film of 2014',\n",
       "       'It received acclaim for its performances, direction, screenplay, musical score, visual effects, ambition, themes, and emotional weight',\n",
       "       'It has also received praise from many astronomers for its scientific accuracy and portrayal of theoretical astrophysics',\n",
       "       'Since its premiere, Interstellar gained a cult following,[5] and now is regarded by many sci-fi experts as one of the best science-fiction films of all time',\n",
       "       'Interstellar was nominated for five awards at the 87th Academy Awards, winning Best Visual Effects, and received numerous other accolades'],\n",
       "      dtype='<U192')"
      ]
     },
     "execution_count": 24,
     "metadata": {},
     "output_type": "execute_result"
    }
   ],
   "source": [
    "texts"
   ]
  },
  {
   "cell_type": "code",
   "execution_count": 25,
   "id": "3f850709",
   "metadata": {
    "height": 98
   },
   "outputs": [],
   "source": [
    "# Split into a list of paragraphs\n",
    "texts = text.split('\\n\\n')\n",
    "\n",
    "# Clean up to remove empty spaces and new lines\n",
    "texts = np.array([t.strip(' \\n') for t in texts])"
   ]
  },
  {
   "cell_type": "code",
   "execution_count": 26,
   "id": "7b41bc71",
   "metadata": {
    "height": 30
   },
   "outputs": [
    {
     "data": {
      "text/plain": [
       "array(['Interstellar is a 2014 epic science fiction film co-written, directed, and produced by Christopher Nolan.\\nIt stars Matthew McConaughey, Anne Hathaway, Jessica Chastain, Bill Irwin, Ellen Burstyn, Matt Damon, and Michael Caine.\\nSet in a dystopian future where humanity is struggling to survive, the film follows a group of astronauts who travel through a wormhole near Saturn in search of a new home for mankind.',\n",
       "       'Brothers Christopher and Jonathan Nolan wrote the screenplay, which had its origins in a script Jonathan developed in 2007.\\nCaltech theoretical physicist and 2017 Nobel laureate in Physics[4] Kip Thorne was an executive producer, acted as a scientific consultant, and wrote a tie-in book, The Science of Interstellar.\\nCinematographer Hoyte van Hoytema shot it on 35 mm movie film in the Panavision anamorphic format and IMAX 70 mm.\\nPrincipal photography began in late 2013 and took place in Alberta, Iceland, and Los Angeles.\\nInterstellar uses extensive practical and miniature effects and the company Double Negative created additional digital effects.',\n",
       "       'Interstellar premiered on October 26, 2014, in Los Angeles.\\nIn the United States, it was first released on film stock, expanding to venues using digital projectors.\\nThe film had a worldwide gross over $677 million (and $773 million with subsequent re-releases), making it the tenth-highest grossing film of 2014.\\nIt received acclaim for its performances, direction, screenplay, musical score, visual effects, ambition, themes, and emotional weight.\\nIt has also received praise from many astronomers for its scientific accuracy and portrayal of theoretical astrophysics. Since its premiere, Interstellar gained a cult following,[5] and now is regarded by many sci-fi experts as one of the best science-fiction films of all time.\\nInterstellar was nominated for five awards at the 87th Academy Awards, winning Best Visual Effects, and received numerous other accolades'],\n",
       "      dtype='<U865')"
      ]
     },
     "execution_count": 26,
     "metadata": {},
     "output_type": "execute_result"
    }
   ],
   "source": [
    "texts"
   ]
  },
  {
   "cell_type": "code",
   "execution_count": null,
   "id": "4f4e167d",
   "metadata": {
    "height": 98
   },
   "outputs": [],
   "source": [
    "# Split into a list of sentences\n",
    "texts = text.split('.')\n",
    "\n",
    "# Clean up to remove empty spaces and new lines\n",
    "texts = np.array([t.strip(' \\n') for t in texts])"
   ]
  },
  {
   "cell_type": "code",
   "execution_count": 27,
   "id": "907ad923-a086-4746-b3c8-bdd7e5ff30ad",
   "metadata": {
    "height": 64
   },
   "outputs": [],
   "source": [
    "title = 'Interstellar (film)'\n",
    "\n",
    "texts = np.array([f\"{title} {t}\" for t in texts])"
   ]
  },
  {
   "cell_type": "code",
   "execution_count": 28,
   "id": "630eb9b9-eced-4716-8684-ad028a437057",
   "metadata": {
    "height": 30
   },
   "outputs": [
    {
     "data": {
      "text/plain": [
       "array(['Interstellar (film) Interstellar is a 2014 epic science fiction film co-written, directed, and produced by Christopher Nolan.\\nIt stars Matthew McConaughey, Anne Hathaway, Jessica Chastain, Bill Irwin, Ellen Burstyn, Matt Damon, and Michael Caine.\\nSet in a dystopian future where humanity is struggling to survive, the film follows a group of astronauts who travel through a wormhole near Saturn in search of a new home for mankind.',\n",
       "       'Interstellar (film) Brothers Christopher and Jonathan Nolan wrote the screenplay, which had its origins in a script Jonathan developed in 2007.\\nCaltech theoretical physicist and 2017 Nobel laureate in Physics[4] Kip Thorne was an executive producer, acted as a scientific consultant, and wrote a tie-in book, The Science of Interstellar.\\nCinematographer Hoyte van Hoytema shot it on 35 mm movie film in the Panavision anamorphic format and IMAX 70 mm.\\nPrincipal photography began in late 2013 and took place in Alberta, Iceland, and Los Angeles.\\nInterstellar uses extensive practical and miniature effects and the company Double Negative created additional digital effects.',\n",
       "       'Interstellar (film) Interstellar premiered on October 26, 2014, in Los Angeles.\\nIn the United States, it was first released on film stock, expanding to venues using digital projectors.\\nThe film had a worldwide gross over $677 million (and $773 million with subsequent re-releases), making it the tenth-highest grossing film of 2014.\\nIt received acclaim for its performances, direction, screenplay, musical score, visual effects, ambition, themes, and emotional weight.\\nIt has also received praise from many astronomers for its scientific accuracy and portrayal of theoretical astrophysics. Since its premiere, Interstellar gained a cult following,[5] and now is regarded by many sci-fi experts as one of the best science-fiction films of all time.\\nInterstellar was nominated for five awards at the 87th Academy Awards, winning Best Visual Effects, and received numerous other accolades'],\n",
       "      dtype='<U885')"
      ]
     },
     "execution_count": 28,
     "metadata": {},
     "output_type": "execute_result"
    }
   ],
   "source": [
    "texts"
   ]
  },
  {
   "cell_type": "markdown",
   "id": "3a26b43a",
   "metadata": {},
   "source": [
    "### Get the embeddings:"
   ]
  },
  {
   "cell_type": "code",
   "execution_count": 31,
   "id": "fbbc0303-e929-4eb4-aa95-0c41042e19c9",
   "metadata": {
    "height": 64
   },
   "outputs": [
    {
     "name": "stderr",
     "output_type": "stream",
     "text": [
      "default model on embed will be deprecated in the future, please specify a model in the request.\n"
     ]
    }
   ],
   "source": [
    "response = co.embed(\n",
    "    texts=texts.tolist()\n",
    ").embeddings"
   ]
  },
  {
   "cell_type": "code",
   "execution_count": 32,
   "id": "84d7961f-5075-4549-84ac-a013d875b709",
   "metadata": {
    "height": 47
   },
   "outputs": [
    {
     "data": {
      "text/plain": [
       "(3, 4096)"
      ]
     },
     "execution_count": 32,
     "metadata": {},
     "output_type": "execute_result"
    }
   ],
   "source": [
    "embeds = np.array(response)\n",
    "embeds.shape"
   ]
  },
  {
   "cell_type": "markdown",
   "id": "39e19dee",
   "metadata": {},
   "source": [
    "### Create the search index:"
   ]
  },
  {
   "cell_type": "code",
   "execution_count": 36,
   "id": "7cadadeb-f74f-4145-8a62-de184ffd9ead",
   "metadata": {
    "height": 132
   },
   "outputs": [
    {
     "data": {
      "text/plain": [
       "True"
      ]
     },
     "execution_count": 36,
     "metadata": {},
     "output_type": "execute_result"
    }
   ],
   "source": [
    "search_index = AnnoyIndex(embeds.shape[1], 'angular')\n",
    "# Add all the vectors to the search index\n",
    "for i in range(len(embeds)):\n",
    "    search_index.add_item(i, embeds[i])\n",
    "\n",
    "search_index.build(10) # 10 trees\n",
    "search_index.save('test.ann')"
   ]
  },
  {
   "cell_type": "code",
   "execution_count": 38,
   "id": "86e7267a-d130-4ee2-8498-4ba2ad2eebd0",
   "metadata": {
    "height": 319
   },
   "outputs": [],
   "source": [
    "pd.set_option('display.max_colwidth', None)\n",
    "\n",
    "def search(query):\n",
    "\n",
    "  # Get the query's embedding\n",
    "  query_embed = co.embed(texts=[query]).embeddings\n",
    "\n",
    "  # Retrieve the nearest neighbors\n",
    "  similar_item_ids = search_index.get_nns_by_vector(query_embed[0],\n",
    "                                                    3,\n",
    "                                                  include_distances=True)\n",
    "  # Format the results\n",
    "  results = pd.DataFrame(data={'texts': texts[similar_item_ids[0]],\n",
    "                              'distance': similar_item_ids[1]})\n",
    "\n",
    "  print(texts[similar_item_ids[0]])\n",
    "    \n",
    "  return results"
   ]
  },
  {
   "cell_type": "code",
   "execution_count": 35,
   "id": "6b932b43-5fa4-4f23-a627-29deb80f0bd0",
   "metadata": {
    "height": 47
   },
   "outputs": [
    {
     "name": "stderr",
     "output_type": "stream",
     "text": [
      "default model on embed will be deprecated in the future, please specify a model in the request.\n"
     ]
    },
    {
     "name": "stdout",
     "output_type": "stream",
     "text": [
      "['Interstellar (film) Interstellar premiered on October 26, 2014, in Los Angeles.\\nIn the United States, it was first released on film stock, expanding to venues using digital projectors.\\nThe film had a worldwide gross over $677 million (and $773 million with subsequent re-releases), making it the tenth-highest grossing film of 2014.\\nIt received acclaim for its performances, direction, screenplay, musical score, visual effects, ambition, themes, and emotional weight.\\nIt has also received praise from many astronomers for its scientific accuracy and portrayal of theoretical astrophysics. Since its premiere, Interstellar gained a cult following,[5] and now is regarded by many sci-fi experts as one of the best science-fiction films of all time.\\nInterstellar was nominated for five awards at the 87th Academy Awards, winning Best Visual Effects, and received numerous other accolades'\n",
      " 'Interstellar (film) Brothers Christopher and Jonathan Nolan wrote the screenplay, which had its origins in a script Jonathan developed in 2007.\\nCaltech theoretical physicist and 2017 Nobel laureate in Physics[4] Kip Thorne was an executive producer, acted as a scientific consultant, and wrote a tie-in book, The Science of Interstellar.\\nCinematographer Hoyte van Hoytema shot it on 35 mm movie film in the Panavision anamorphic format and IMAX 70 mm.\\nPrincipal photography began in late 2013 and took place in Alberta, Iceland, and Los Angeles.\\nInterstellar uses extensive practical and miniature effects and the company Double Negative created additional digital effects.'\n",
      " 'Interstellar (film) Interstellar is a 2014 epic science fiction film co-written, directed, and produced by Christopher Nolan.\\nIt stars Matthew McConaughey, Anne Hathaway, Jessica Chastain, Bill Irwin, Ellen Burstyn, Matt Damon, and Michael Caine.\\nSet in a dystopian future where humanity is struggling to survive, the film follows a group of astronauts who travel through a wormhole near Saturn in search of a new home for mankind.']\n"
     ]
    },
    {
     "data": {
      "text/html": [
       "<div>\n",
       "<style scoped>\n",
       "    .dataframe tbody tr th:only-of-type {\n",
       "        vertical-align: middle;\n",
       "    }\n",
       "\n",
       "    .dataframe tbody tr th {\n",
       "        vertical-align: top;\n",
       "    }\n",
       "\n",
       "    .dataframe thead th {\n",
       "        text-align: right;\n",
       "    }\n",
       "</style>\n",
       "<table border=\"1\" class=\"dataframe\">\n",
       "  <thead>\n",
       "    <tr style=\"text-align: right;\">\n",
       "      <th></th>\n",
       "      <th>texts</th>\n",
       "      <th>distance</th>\n",
       "    </tr>\n",
       "  </thead>\n",
       "  <tbody>\n",
       "    <tr>\n",
       "      <th>0</th>\n",
       "      <td>Interstellar (film) Interstellar premiered on October 26, 2014, in Los Angeles.\\nIn the United States, it was first released on film stock, expanding to venues using digital projectors.\\nThe film had a worldwide gross over $677 million (and $773 million with subsequent re-releases), making it the tenth-highest grossing film of 2014.\\nIt received acclaim for its performances, direction, screenplay, musical score, visual effects, ambition, themes, and emotional weight.\\nIt has also received praise from many astronomers for its scientific accuracy and portrayal of theoretical astrophysics. Since its premiere, Interstellar gained a cult following,[5] and now is regarded by many sci-fi experts as one of the best science-fiction films of all time.\\nInterstellar was nominated for five awards at the 87th Academy Awards, winning Best Visual Effects, and received numerous other accolades</td>\n",
       "      <td>1.092563</td>\n",
       "    </tr>\n",
       "    <tr>\n",
       "      <th>1</th>\n",
       "      <td>Interstellar (film) Brothers Christopher and Jonathan Nolan wrote the screenplay, which had its origins in a script Jonathan developed in 2007.\\nCaltech theoretical physicist and 2017 Nobel laureate in Physics[4] Kip Thorne was an executive producer, acted as a scientific consultant, and wrote a tie-in book, The Science of Interstellar.\\nCinematographer Hoyte van Hoytema shot it on 35 mm movie film in the Panavision anamorphic format and IMAX 70 mm.\\nPrincipal photography began in late 2013 and took place in Alberta, Iceland, and Los Angeles.\\nInterstellar uses extensive practical and miniature effects and the company Double Negative created additional digital effects.</td>\n",
       "      <td>1.150133</td>\n",
       "    </tr>\n",
       "    <tr>\n",
       "      <th>2</th>\n",
       "      <td>Interstellar (film) Interstellar is a 2014 epic science fiction film co-written, directed, and produced by Christopher Nolan.\\nIt stars Matthew McConaughey, Anne Hathaway, Jessica Chastain, Bill Irwin, Ellen Burstyn, Matt Damon, and Michael Caine.\\nSet in a dystopian future where humanity is struggling to survive, the film follows a group of astronauts who travel through a wormhole near Saturn in search of a new home for mankind.</td>\n",
       "      <td>1.203065</td>\n",
       "    </tr>\n",
       "  </tbody>\n",
       "</table>\n",
       "</div>"
      ],
      "text/plain": [
       "                                                                                                                                                                                                                                                                                                                                                                                                                                                                                                                                                                                                                                                                                                                                                                                                                                                                                                                        texts  \\\n",
       "0  Interstellar (film) Interstellar premiered on October 26, 2014, in Los Angeles.\\nIn the United States, it was first released on film stock, expanding to venues using digital projectors.\\nThe film had a worldwide gross over $677 million (and $773 million with subsequent re-releases), making it the tenth-highest grossing film of 2014.\\nIt received acclaim for its performances, direction, screenplay, musical score, visual effects, ambition, themes, and emotional weight.\\nIt has also received praise from many astronomers for its scientific accuracy and portrayal of theoretical astrophysics. Since its premiere, Interstellar gained a cult following,[5] and now is regarded by many sci-fi experts as one of the best science-fiction films of all time.\\nInterstellar was nominated for five awards at the 87th Academy Awards, winning Best Visual Effects, and received numerous other accolades   \n",
       "1                                                                                                                                                                                                                       Interstellar (film) Brothers Christopher and Jonathan Nolan wrote the screenplay, which had its origins in a script Jonathan developed in 2007.\\nCaltech theoretical physicist and 2017 Nobel laureate in Physics[4] Kip Thorne was an executive producer, acted as a scientific consultant, and wrote a tie-in book, The Science of Interstellar.\\nCinematographer Hoyte van Hoytema shot it on 35 mm movie film in the Panavision anamorphic format and IMAX 70 mm.\\nPrincipal photography began in late 2013 and took place in Alberta, Iceland, and Los Angeles.\\nInterstellar uses extensive practical and miniature effects and the company Double Negative created additional digital effects.   \n",
       "2                                                                                                                                                                                                                                                                                                                                                                                                                                                                           Interstellar (film) Interstellar is a 2014 epic science fiction film co-written, directed, and produced by Christopher Nolan.\\nIt stars Matthew McConaughey, Anne Hathaway, Jessica Chastain, Bill Irwin, Ellen Burstyn, Matt Damon, and Michael Caine.\\nSet in a dystopian future where humanity is struggling to survive, the film follows a group of astronauts who travel through a wormhole near Saturn in search of a new home for mankind.   \n",
       "\n",
       "   distance  \n",
       "0  1.092563  \n",
       "1  1.150133  \n",
       "2  1.203065  "
      ]
     },
     "execution_count": 35,
     "metadata": {},
     "output_type": "execute_result"
    }
   ],
   "source": [
    "query = \"How much did the film make?\"\n",
    "search(query)"
   ]
  },
  {
   "cell_type": "code",
   "execution_count": null,
   "id": "a1e4c088-aecd-4e7d-9475-79fdf4f1e3ff",
   "metadata": {
    "height": 30
   },
   "outputs": [],
   "source": []
  },
  {
   "cell_type": "code",
   "execution_count": null,
   "id": "e3502566-f976-4f29-9ac3-ceb8251506f3",
   "metadata": {
    "height": 30
   },
   "outputs": [],
   "source": []
  },
  {
   "cell_type": "code",
   "execution_count": null,
   "id": "b8301f90-f6e8-4f2e-a3f0-c528824e797a",
   "metadata": {
    "height": 30
   },
   "outputs": [],
   "source": []
  },
  {
   "cell_type": "code",
   "execution_count": null,
   "id": "72b88367-b571-4e50-aa4f-c754fc31ab7f",
   "metadata": {
    "height": 30
   },
   "outputs": [],
   "source": []
  },
  {
   "cell_type": "code",
   "execution_count": null,
   "id": "d0e71d39-8f59-4d0e-a2fd-aa0eb0cd1b84",
   "metadata": {
    "height": 30
   },
   "outputs": [],
   "source": []
  },
  {
   "cell_type": "code",
   "execution_count": null,
   "id": "ded6ecfa-91f4-48c2-9237-6904f7f630d4",
   "metadata": {
    "height": 30
   },
   "outputs": [],
   "source": []
  },
  {
   "cell_type": "code",
   "execution_count": null,
   "id": "87ef1f57-be42-47aa-a132-0731aeaef4fc",
   "metadata": {
    "height": 30
   },
   "outputs": [],
   "source": []
  },
  {
   "cell_type": "code",
   "execution_count": null,
   "id": "aed0699a-ce3c-4529-b596-b17ff9da51e1",
   "metadata": {
    "height": 30
   },
   "outputs": [],
   "source": []
  },
  {
   "cell_type": "code",
   "execution_count": null,
   "id": "b0e5ddb7-41fa-4eae-b077-2264be76c258",
   "metadata": {
    "height": 30
   },
   "outputs": [],
   "source": []
  },
  {
   "cell_type": "code",
   "execution_count": null,
   "id": "5821387b-fd64-4e12-8541-d7bca94ba9d9",
   "metadata": {
    "height": 30
   },
   "outputs": [],
   "source": []
  },
  {
   "cell_type": "code",
   "execution_count": null,
   "id": "f96720ad-4b11-4038-b7a4-0d2ea5a34379",
   "metadata": {
    "height": 30
   },
   "outputs": [],
   "source": []
  }
 ],
 "metadata": {
  "kernelspec": {
   "display_name": "Python 3 (ipykernel)",
   "language": "python",
   "name": "python3"
  },
  "language_info": {
   "codemirror_mode": {
    "name": "ipython",
    "version": 3
   },
   "file_extension": ".py",
   "mimetype": "text/x-python",
   "name": "python",
   "nbconvert_exporter": "python",
   "pygments_lexer": "ipython3",
   "version": "3.9.17"
  }
 },
 "nbformat": 4,
 "nbformat_minor": 5
}
